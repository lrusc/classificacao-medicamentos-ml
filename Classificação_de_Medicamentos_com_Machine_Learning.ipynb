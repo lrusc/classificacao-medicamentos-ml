{
  "nbformat": 4,
  "nbformat_minor": 0,
  "metadata": {
    "colab": {
      "provenance": []
    },
    "kernelspec": {
      "name": "python3",
      "display_name": "Python 3"
    },
    "language_info": {
      "name": "python"
    }
  },
  "cells": [
    {
      "cell_type": "markdown",
      "source": [
        "# Previsão de Medicamentos com Machine Learning: Análise de Dados Clínicos"
      ],
      "metadata": {
        "id": "hH5P17xyRd5K"
      }
    },
    {
      "cell_type": "markdown",
      "source": [
        "**Autor:** Lucas Ruschioni de Oliveira  \n",
        "**Objetivo:** Prever o medicamento mais adequado para pacientes com base em suas características."
      ],
      "metadata": {
        "id": "iH61lguNRiJo"
      }
    },
    {
      "cell_type": "markdown",
      "source": [
        "# 1. Importar Bibliotecas e Carregar Dados"
      ],
      "metadata": {
        "id": "Muwa264qRsTQ"
      }
    },
    {
      "cell_type": "code",
      "source": [
        "\n",
        "import pandas as pd\n",
        "import matplotlib.pyplot as plt\n",
        "import seaborn as sns\n",
        "from sklearn.model_selection import train_test_split\n",
        "from sklearn.preprocessing import LabelEncoder, StandardScaler\n",
        "from sklearn.tree import DecisionTreeClassifier\n",
        "from sklearn.linear_model import LogisticRegression\n",
        "from sklearn.ensemble import RandomForestClassifier\n",
        "from sklearn.metrics import accuracy_score, classification_report\n",
        "\n",
        "# Carregar dados\n",
        "dados = pd.read_csv('drug400.csv')\n",
        "print(\"Primeiras 5 linhas:\")\n",
        "dados.head()"
      ],
      "metadata": {
        "colab": {
          "base_uri": "https://localhost:8080/",
          "height": 224
        },
        "id": "b4LKuobJQqrp",
        "outputId": "954e52c1-59bc-4e07-a71a-90b5e053c26d"
      },
      "execution_count": 8,
      "outputs": [
        {
          "output_type": "stream",
          "name": "stdout",
          "text": [
            "Primeiras 5 linhas:\n"
          ]
        },
        {
          "output_type": "execute_result",
          "data": {
            "text/plain": [
              "   Age Sex      BP Cholesterol  Na_to_K   Drug\n",
              "0   23   F    HIGH        HIGH   25.355  DrugY\n",
              "1   47   M     LOW        HIGH   13.093  drugC\n",
              "2   47   M     LOW        HIGH   10.114  drugC\n",
              "3   28   F  NORMAL        HIGH    7.798  drugX\n",
              "4   61   F     LOW        HIGH   18.043  DrugY"
            ],
            "text/html": [
              "\n",
              "  <div id=\"df-afbdb054-0759-4bc6-909f-6df9a568555b\" class=\"colab-df-container\">\n",
              "    <div>\n",
              "<style scoped>\n",
              "    .dataframe tbody tr th:only-of-type {\n",
              "        vertical-align: middle;\n",
              "    }\n",
              "\n",
              "    .dataframe tbody tr th {\n",
              "        vertical-align: top;\n",
              "    }\n",
              "\n",
              "    .dataframe thead th {\n",
              "        text-align: right;\n",
              "    }\n",
              "</style>\n",
              "<table border=\"1\" class=\"dataframe\">\n",
              "  <thead>\n",
              "    <tr style=\"text-align: right;\">\n",
              "      <th></th>\n",
              "      <th>Age</th>\n",
              "      <th>Sex</th>\n",
              "      <th>BP</th>\n",
              "      <th>Cholesterol</th>\n",
              "      <th>Na_to_K</th>\n",
              "      <th>Drug</th>\n",
              "    </tr>\n",
              "  </thead>\n",
              "  <tbody>\n",
              "    <tr>\n",
              "      <th>0</th>\n",
              "      <td>23</td>\n",
              "      <td>F</td>\n",
              "      <td>HIGH</td>\n",
              "      <td>HIGH</td>\n",
              "      <td>25.355</td>\n",
              "      <td>DrugY</td>\n",
              "    </tr>\n",
              "    <tr>\n",
              "      <th>1</th>\n",
              "      <td>47</td>\n",
              "      <td>M</td>\n",
              "      <td>LOW</td>\n",
              "      <td>HIGH</td>\n",
              "      <td>13.093</td>\n",
              "      <td>drugC</td>\n",
              "    </tr>\n",
              "    <tr>\n",
              "      <th>2</th>\n",
              "      <td>47</td>\n",
              "      <td>M</td>\n",
              "      <td>LOW</td>\n",
              "      <td>HIGH</td>\n",
              "      <td>10.114</td>\n",
              "      <td>drugC</td>\n",
              "    </tr>\n",
              "    <tr>\n",
              "      <th>3</th>\n",
              "      <td>28</td>\n",
              "      <td>F</td>\n",
              "      <td>NORMAL</td>\n",
              "      <td>HIGH</td>\n",
              "      <td>7.798</td>\n",
              "      <td>drugX</td>\n",
              "    </tr>\n",
              "    <tr>\n",
              "      <th>4</th>\n",
              "      <td>61</td>\n",
              "      <td>F</td>\n",
              "      <td>LOW</td>\n",
              "      <td>HIGH</td>\n",
              "      <td>18.043</td>\n",
              "      <td>DrugY</td>\n",
              "    </tr>\n",
              "  </tbody>\n",
              "</table>\n",
              "</div>\n",
              "    <div class=\"colab-df-buttons\">\n",
              "\n",
              "  <div class=\"colab-df-container\">\n",
              "    <button class=\"colab-df-convert\" onclick=\"convertToInteractive('df-afbdb054-0759-4bc6-909f-6df9a568555b')\"\n",
              "            title=\"Convert this dataframe to an interactive table.\"\n",
              "            style=\"display:none;\">\n",
              "\n",
              "  <svg xmlns=\"http://www.w3.org/2000/svg\" height=\"24px\" viewBox=\"0 -960 960 960\">\n",
              "    <path d=\"M120-120v-720h720v720H120Zm60-500h600v-160H180v160Zm220 220h160v-160H400v160Zm0 220h160v-160H400v160ZM180-400h160v-160H180v160Zm440 0h160v-160H620v160ZM180-180h160v-160H180v160Zm440 0h160v-160H620v160Z\"/>\n",
              "  </svg>\n",
              "    </button>\n",
              "\n",
              "  <style>\n",
              "    .colab-df-container {\n",
              "      display:flex;\n",
              "      gap: 12px;\n",
              "    }\n",
              "\n",
              "    .colab-df-convert {\n",
              "      background-color: #E8F0FE;\n",
              "      border: none;\n",
              "      border-radius: 50%;\n",
              "      cursor: pointer;\n",
              "      display: none;\n",
              "      fill: #1967D2;\n",
              "      height: 32px;\n",
              "      padding: 0 0 0 0;\n",
              "      width: 32px;\n",
              "    }\n",
              "\n",
              "    .colab-df-convert:hover {\n",
              "      background-color: #E2EBFA;\n",
              "      box-shadow: 0px 1px 2px rgba(60, 64, 67, 0.3), 0px 1px 3px 1px rgba(60, 64, 67, 0.15);\n",
              "      fill: #174EA6;\n",
              "    }\n",
              "\n",
              "    .colab-df-buttons div {\n",
              "      margin-bottom: 4px;\n",
              "    }\n",
              "\n",
              "    [theme=dark] .colab-df-convert {\n",
              "      background-color: #3B4455;\n",
              "      fill: #D2E3FC;\n",
              "    }\n",
              "\n",
              "    [theme=dark] .colab-df-convert:hover {\n",
              "      background-color: #434B5C;\n",
              "      box-shadow: 0px 1px 3px 1px rgba(0, 0, 0, 0.15);\n",
              "      filter: drop-shadow(0px 1px 2px rgba(0, 0, 0, 0.3));\n",
              "      fill: #FFFFFF;\n",
              "    }\n",
              "  </style>\n",
              "\n",
              "    <script>\n",
              "      const buttonEl =\n",
              "        document.querySelector('#df-afbdb054-0759-4bc6-909f-6df9a568555b button.colab-df-convert');\n",
              "      buttonEl.style.display =\n",
              "        google.colab.kernel.accessAllowed ? 'block' : 'none';\n",
              "\n",
              "      async function convertToInteractive(key) {\n",
              "        const element = document.querySelector('#df-afbdb054-0759-4bc6-909f-6df9a568555b');\n",
              "        const dataTable =\n",
              "          await google.colab.kernel.invokeFunction('convertToInteractive',\n",
              "                                                    [key], {});\n",
              "        if (!dataTable) return;\n",
              "\n",
              "        const docLinkHtml = 'Like what you see? Visit the ' +\n",
              "          '<a target=\"_blank\" href=https://colab.research.google.com/notebooks/data_table.ipynb>data table notebook</a>'\n",
              "          + ' to learn more about interactive tables.';\n",
              "        element.innerHTML = '';\n",
              "        dataTable['output_type'] = 'display_data';\n",
              "        await google.colab.output.renderOutput(dataTable, element);\n",
              "        const docLink = document.createElement('div');\n",
              "        docLink.innerHTML = docLinkHtml;\n",
              "        element.appendChild(docLink);\n",
              "      }\n",
              "    </script>\n",
              "  </div>\n",
              "\n",
              "\n",
              "<div id=\"df-e4fe6f2c-cd47-46f9-9666-224e3fea5e0f\">\n",
              "  <button class=\"colab-df-quickchart\" onclick=\"quickchart('df-e4fe6f2c-cd47-46f9-9666-224e3fea5e0f')\"\n",
              "            title=\"Suggest charts\"\n",
              "            style=\"display:none;\">\n",
              "\n",
              "<svg xmlns=\"http://www.w3.org/2000/svg\" height=\"24px\"viewBox=\"0 0 24 24\"\n",
              "     width=\"24px\">\n",
              "    <g>\n",
              "        <path d=\"M19 3H5c-1.1 0-2 .9-2 2v14c0 1.1.9 2 2 2h14c1.1 0 2-.9 2-2V5c0-1.1-.9-2-2-2zM9 17H7v-7h2v7zm4 0h-2V7h2v10zm4 0h-2v-4h2v4z\"/>\n",
              "    </g>\n",
              "</svg>\n",
              "  </button>\n",
              "\n",
              "<style>\n",
              "  .colab-df-quickchart {\n",
              "      --bg-color: #E8F0FE;\n",
              "      --fill-color: #1967D2;\n",
              "      --hover-bg-color: #E2EBFA;\n",
              "      --hover-fill-color: #174EA6;\n",
              "      --disabled-fill-color: #AAA;\n",
              "      --disabled-bg-color: #DDD;\n",
              "  }\n",
              "\n",
              "  [theme=dark] .colab-df-quickchart {\n",
              "      --bg-color: #3B4455;\n",
              "      --fill-color: #D2E3FC;\n",
              "      --hover-bg-color: #434B5C;\n",
              "      --hover-fill-color: #FFFFFF;\n",
              "      --disabled-bg-color: #3B4455;\n",
              "      --disabled-fill-color: #666;\n",
              "  }\n",
              "\n",
              "  .colab-df-quickchart {\n",
              "    background-color: var(--bg-color);\n",
              "    border: none;\n",
              "    border-radius: 50%;\n",
              "    cursor: pointer;\n",
              "    display: none;\n",
              "    fill: var(--fill-color);\n",
              "    height: 32px;\n",
              "    padding: 0;\n",
              "    width: 32px;\n",
              "  }\n",
              "\n",
              "  .colab-df-quickchart:hover {\n",
              "    background-color: var(--hover-bg-color);\n",
              "    box-shadow: 0 1px 2px rgba(60, 64, 67, 0.3), 0 1px 3px 1px rgba(60, 64, 67, 0.15);\n",
              "    fill: var(--button-hover-fill-color);\n",
              "  }\n",
              "\n",
              "  .colab-df-quickchart-complete:disabled,\n",
              "  .colab-df-quickchart-complete:disabled:hover {\n",
              "    background-color: var(--disabled-bg-color);\n",
              "    fill: var(--disabled-fill-color);\n",
              "    box-shadow: none;\n",
              "  }\n",
              "\n",
              "  .colab-df-spinner {\n",
              "    border: 2px solid var(--fill-color);\n",
              "    border-color: transparent;\n",
              "    border-bottom-color: var(--fill-color);\n",
              "    animation:\n",
              "      spin 1s steps(1) infinite;\n",
              "  }\n",
              "\n",
              "  @keyframes spin {\n",
              "    0% {\n",
              "      border-color: transparent;\n",
              "      border-bottom-color: var(--fill-color);\n",
              "      border-left-color: var(--fill-color);\n",
              "    }\n",
              "    20% {\n",
              "      border-color: transparent;\n",
              "      border-left-color: var(--fill-color);\n",
              "      border-top-color: var(--fill-color);\n",
              "    }\n",
              "    30% {\n",
              "      border-color: transparent;\n",
              "      border-left-color: var(--fill-color);\n",
              "      border-top-color: var(--fill-color);\n",
              "      border-right-color: var(--fill-color);\n",
              "    }\n",
              "    40% {\n",
              "      border-color: transparent;\n",
              "      border-right-color: var(--fill-color);\n",
              "      border-top-color: var(--fill-color);\n",
              "    }\n",
              "    60% {\n",
              "      border-color: transparent;\n",
              "      border-right-color: var(--fill-color);\n",
              "    }\n",
              "    80% {\n",
              "      border-color: transparent;\n",
              "      border-right-color: var(--fill-color);\n",
              "      border-bottom-color: var(--fill-color);\n",
              "    }\n",
              "    90% {\n",
              "      border-color: transparent;\n",
              "      border-bottom-color: var(--fill-color);\n",
              "    }\n",
              "  }\n",
              "</style>\n",
              "\n",
              "  <script>\n",
              "    async function quickchart(key) {\n",
              "      const quickchartButtonEl =\n",
              "        document.querySelector('#' + key + ' button');\n",
              "      quickchartButtonEl.disabled = true;  // To prevent multiple clicks.\n",
              "      quickchartButtonEl.classList.add('colab-df-spinner');\n",
              "      try {\n",
              "        const charts = await google.colab.kernel.invokeFunction(\n",
              "            'suggestCharts', [key], {});\n",
              "      } catch (error) {\n",
              "        console.error('Error during call to suggestCharts:', error);\n",
              "      }\n",
              "      quickchartButtonEl.classList.remove('colab-df-spinner');\n",
              "      quickchartButtonEl.classList.add('colab-df-quickchart-complete');\n",
              "    }\n",
              "    (() => {\n",
              "      let quickchartButtonEl =\n",
              "        document.querySelector('#df-e4fe6f2c-cd47-46f9-9666-224e3fea5e0f button');\n",
              "      quickchartButtonEl.style.display =\n",
              "        google.colab.kernel.accessAllowed ? 'block' : 'none';\n",
              "    })();\n",
              "  </script>\n",
              "</div>\n",
              "\n",
              "    </div>\n",
              "  </div>\n"
            ],
            "application/vnd.google.colaboratory.intrinsic+json": {
              "type": "dataframe",
              "variable_name": "dados",
              "summary": "{\n  \"name\": \"dados\",\n  \"rows\": 400,\n  \"fields\": [\n    {\n      \"column\": \"Age\",\n      \"properties\": {\n        \"dtype\": \"number\",\n        \"std\": 16,\n        \"min\": 15,\n        \"max\": 74,\n        \"num_unique_values\": 60,\n        \"samples\": [\n          23,\n          49,\n          40\n        ],\n        \"semantic_type\": \"\",\n        \"description\": \"\"\n      }\n    },\n    {\n      \"column\": \"Sex\",\n      \"properties\": {\n        \"dtype\": \"category\",\n        \"num_unique_values\": 2,\n        \"samples\": [\n          \"M\",\n          \"F\"\n        ],\n        \"semantic_type\": \"\",\n        \"description\": \"\"\n      }\n    },\n    {\n      \"column\": \"BP\",\n      \"properties\": {\n        \"dtype\": \"category\",\n        \"num_unique_values\": 3,\n        \"samples\": [\n          \"HIGH\",\n          \"LOW\"\n        ],\n        \"semantic_type\": \"\",\n        \"description\": \"\"\n      }\n    },\n    {\n      \"column\": \"Cholesterol\",\n      \"properties\": {\n        \"dtype\": \"category\",\n        \"num_unique_values\": 2,\n        \"samples\": [\n          \"NORMAL\",\n          \"HIGH\"\n        ],\n        \"semantic_type\": \"\",\n        \"description\": \"\"\n      }\n    },\n    {\n      \"column\": \"Na_to_K\",\n      \"properties\": {\n        \"dtype\": \"number\",\n        \"std\": 7.221384577532451,\n        \"min\": 5.316303209780896,\n        \"max\": 39.69998979590556,\n        \"num_unique_values\": 398,\n        \"samples\": [\n          25.32064762878922,\n          14.80549545110488\n        ],\n        \"semantic_type\": \"\",\n        \"description\": \"\"\n      }\n    },\n    {\n      \"column\": \"Drug\",\n      \"properties\": {\n        \"dtype\": \"category\",\n        \"num_unique_values\": 5,\n        \"samples\": [\n          \"drugC\",\n          \"drugB\"\n        ],\n        \"semantic_type\": \"\",\n        \"description\": \"\"\n      }\n    }\n  ]\n}"
            }
          },
          "metadata": {},
          "execution_count": 8
        }
      ]
    },
    {
      "cell_type": "markdown",
      "source": [
        "# 2. Análise Exploratória dos Dados\n"
      ],
      "metadata": {
        "id": "9Q6d4uv1Rzk4"
      }
    },
    {
      "cell_type": "code",
      "source": [
        "# Distribuição dos medicamentos\n",
        "plt.figure(figsize=(10, 4))\n",
        "sns.countplot(data=dados, x='Drug', hue='Drug', palette='viridis', legend=False)\n",
        "plt.title('Quantidade de Cada Medicamento')\n",
        "plt.show()\n",
        "\n",
        "# Relação entre idade e medicamento\n",
        "plt.figure(figsize=(10, 4))\n",
        "sns.boxplot(data=dados, x='Drug', y='Age', hue='Drug', palette='Set2', legend=False)\n",
        "plt.title('Distribuição de Idade por Medicamento')\n",
        "plt.show()\n",
        "\n",
        "# Média de Na_to_K por medicamento\n",
        "plt.figure(figsize=(10, 4))\n",
        "sns.barplot(data=dados, x='Drug', y='Na_to_K', hue='Drug', palette='pastel', errorbar=None, legend=False)\n",
        "plt.title('Média de Sódio-Potássio por Medicamento')\n",
        "plt.xlabel('Medicamento')\n",
        "plt.ylabel('Média de Na_to_K')\n",
        "plt.show()"
      ],
      "metadata": {
        "colab": {
          "base_uri": "https://localhost:8080/",
          "height": 1000
        },
        "id": "qHrYtfJPQsc6",
        "outputId": "1bb77f17-8aab-44ca-ac25-f66c9ae26a85"
      },
      "execution_count": 9,
      "outputs": [
        {
          "output_type": "display_data",
          "data": {
            "text/plain": [
              "<Figure size 1000x400 with 1 Axes>"
            ],
            "image/png": "[encoded data removed]"
          },
          "metadata": {}
        },
        {
          "output_type": "display_data",
          "data": {
            "text/plain": [
              "<Figure size 1000x400 with 1 Axes>"
            ],
            "image/png": "[encoded data removed]"
          },
          "metadata": {}
        },
        {
          "output_type": "display_data",
          "data": {
            "text/plain": [
              "<Figure size 1000x400 with 1 Axes>"
            ],
            "image/png": "[encoded data removed]"
          },
          "metadata": {}
        }
      ]
    },
    {
      "cell_type": "markdown",
      "source": [
        "# 3. Pré-processamento dos Dados\n"
      ],
      "metadata": {
        "id": "rIuIdKaER6fo"
      }
    },
    {
      "cell_type": "code",
      "source": [
        "# Converter colunas categóricas para numéricas\n",
        "encoder = LabelEncoder()\n",
        "dados['Sex'] = encoder.fit_transform(dados['Sex'])  # F=0, M=1\n",
        "dados['BP'] = encoder.fit_transform(dados['BP'])     # HIGH=0, LOW=1, NORMAL=2\n",
        "dados['Cholesterol'] = encoder.fit_transform(dados['Cholesterol'])  # HIGH=0, NORMAL=1\n",
        "\n",
        "# Separar features (X) e target (y)\n",
        "X = dados.drop('Drug', axis=1)\n",
        "y = dados['Drug']\n",
        "\n",
        "# Normalizar colunas numéricas\n",
        "scaler = StandardScaler()\n",
        "X[['Age', 'Na_to_K']] = scaler.fit_transform(X[['Age', 'Na_to_K']])\n",
        "\n",
        "# Dividir em treino e teste\n",
        "X_train, X_test, y_train, y_test = train_test_split(X, y, test_size=0.2, random_state=42)\n",
        "print(\"\\nTamanho dos dados:\")\n",
        "print(\"Treino:\", X_train.shape, \"| Teste:\", X_test.shape)"
      ],
      "metadata": {
        "colab": {
          "base_uri": "https://localhost:8080/"
        },
        "id": "w0Th_4QNQwi4",
        "outputId": "92953b41-2e8c-4c84-ae1c-28f602f611cf"
      },
      "execution_count": 11,
      "outputs": [
        {
          "output_type": "stream",
          "name": "stdout",
          "text": [
            "\n",
            "Tamanho dos dados:\n",
            "Treino: (320, 5) | Teste: (80, 5)\n"
          ]
        }
      ]
    },
    {
      "cell_type": "markdown",
      "source": [
        "# 4. Treinar e Avaliar Modelos\n"
      ],
      "metadata": {
        "id": "SZ1-J8RAR-aQ"
      }
    },
    {
      "cell_type": "code",
      "source": [
        "# Modelo 1: Árvore de Decisão\n",
        "modelo_arvore = DecisionTreeClassifier()\n",
        "modelo_arvore.fit(X_train, y_train)\n",
        "pred_arvore = modelo_arvore.predict(X_test)\n",
        "print(\"Acurácia da Árvore de Decisão:\", round(accuracy_score(y_test, pred_arvore), 2))\n",
        "print(classification_report(y_test, pred_arvore))"
      ],
      "metadata": {
        "colab": {
          "base_uri": "https://localhost:8080/"
        },
        "id": "NdX4gIh0Qyzn",
        "outputId": "fff1e33b-7c52-48d6-9aff-6f75143a0bef"
      },
      "execution_count": 13,
      "outputs": [
        {
          "output_type": "stream",
          "name": "stdout",
          "text": [
            "Acurácia da Árvore de Decisão: 0.96\n",
            "              precision    recall  f1-score   support\n",
            "\n",
            "       DrugY       0.97      0.93      0.95        30\n",
            "       drugA       1.00      1.00      1.00        14\n",
            "       drugB       1.00      1.00      1.00         9\n",
            "       drugC       1.00      0.89      0.94         9\n",
            "       drugX       0.90      1.00      0.95        18\n",
            "\n",
            "    accuracy                           0.96        80\n",
            "   macro avg       0.97      0.96      0.97        80\n",
            "weighted avg       0.96      0.96      0.96        80\n",
            "\n"
          ]
        }
      ]
    },
    {
      "cell_type": "code",
      "source": [
        "# Modelo 2: Regressão Logística\n",
        "modelo_regressao = LogisticRegression(max_iter=1000)\n",
        "modelo_regressao.fit(X_train, y_train)\n",
        "pred_regressao = modelo_regressao.predict(X_test)\n",
        "print(\"\\nAcurácia da Regressão Logística:\", round(accuracy_score(y_test, pred_regressao), 2))\n",
        "print(classification_report(y_test, pred_regressao))"
      ],
      "metadata": {
        "colab": {
          "base_uri": "https://localhost:8080/"
        },
        "id": "hOxgwEtKQ0uY",
        "outputId": "04da7c30-a979-4d73-bcfc-e731238d86a2"
      },
      "execution_count": 14,
      "outputs": [
        {
          "output_type": "stream",
          "name": "stdout",
          "text": [
            "\n",
            "Acurácia da Regressão Logística: 0.93\n",
            "              precision    recall  f1-score   support\n",
            "\n",
            "       DrugY       0.93      0.90      0.92        30\n",
            "       drugA       0.93      1.00      0.97        14\n",
            "       drugB       1.00      0.89      0.94         9\n",
            "       drugC       1.00      0.78      0.88         9\n",
            "       drugX       0.86      1.00      0.92        18\n",
            "\n",
            "    accuracy                           0.93        80\n",
            "   macro avg       0.94      0.91      0.92        80\n",
            "weighted avg       0.93      0.93      0.92        80\n",
            "\n"
          ]
        }
      ]
    },
    {
      "cell_type": "code",
      "source": [
        "# Modelo 3: Random Forest\n",
        "modelo_floresta = RandomForestClassifier()\n",
        "modelo_floresta.fit(X_train, y_train)\n",
        "pred_floresta = modelo_floresta.predict(X_test)\n",
        "print(\"\\nAcurácia da Random Forest:\", round(accuracy_score(y_test, pred_floresta), 2))\n",
        "print(classification_report(y_test, pred_floresta))"
      ],
      "metadata": {
        "colab": {
          "base_uri": "https://localhost:8080/"
        },
        "id": "l2liOPQgQ2Na",
        "outputId": "d4a0ea7e-9aa1-4fe9-a810-9b171b490de1"
      },
      "execution_count": 15,
      "outputs": [
        {
          "output_type": "stream",
          "name": "stdout",
          "text": [
            "\n",
            "Acurácia da Random Forest: 0.99\n",
            "              precision    recall  f1-score   support\n",
            "\n",
            "       DrugY       0.97      1.00      0.98        30\n",
            "       drugA       1.00      1.00      1.00        14\n",
            "       drugB       1.00      1.00      1.00         9\n",
            "       drugC       1.00      0.89      0.94         9\n",
            "       drugX       1.00      1.00      1.00        18\n",
            "\n",
            "    accuracy                           0.99        80\n",
            "   macro avg       0.99      0.98      0.98        80\n",
            "weighted avg       0.99      0.99      0.99        80\n",
            "\n"
          ]
        }
      ]
    },
    {
      "cell_type": "markdown",
      "source": [
        "# 5. Comparação dos Modelos\n",
        "\n",
        "\n"
      ],
      "metadata": {
        "id": "GvITj-cuSCUY"
      }
    },
    {
      "cell_type": "code",
      "source": [
        "# Criar tabela comparativa\n",
        "resultados = pd.DataFrame({\n",
        "    'Modelo': ['Árvore de Decisão', 'Regressão Logística', 'Random Forest'],\n",
        "    'Acurácia': [\n",
        "        accuracy_score(y_test, pred_arvore),\n",
        "        accuracy_score(y_test, pred_regressao),\n",
        "        accuracy_score(y_test, pred_floresta)\n",
        "    ]\n",
        "})\n",
        "\n",
        "print(\"\\nComparação Final:\")\n",
        "display(resultados.style.background_gradient(cmap='YlGnBu'))"
      ],
      "metadata": {
        "colab": {
          "base_uri": "https://localhost:8080/",
          "height": 178
        },
        "id": "NfyhIqYcQ4FA",
        "outputId": "a5cf6400-0b75-48eb-8703-d8af6bc8946f"
      },
      "execution_count": 16,
      "outputs": [
        {
          "output_type": "stream",
          "name": "stdout",
          "text": [
            "\n",
            "Comparação Final:\n"
          ]
        },
        {
          "output_type": "display_data",
          "data": {
            "text/plain": [
              "<pandas.io.formats.style.Styler at 0x78bf7eb5d810>"
            ],
            "text/html": [
              "<style type=\"text/css\">\n",
              "#T_9512f_row0_col1 {\n",
              "  background-color: #2498c1;\n",
              "  color: #f1f1f1;\n",
              "}\n",
              "#T_9512f_row1_col1 {\n",
              "  background-color: #ffffd9;\n",
              "  color: #000000;\n",
              "}\n",
              "#T_9512f_row2_col1 {\n",
              "  background-color: #081d58;\n",
              "  color: #f1f1f1;\n",
              "}\n",
              "</style>\n",
              "<table id=\"T_9512f\" class=\"dataframe\">\n",
              "  <thead>\n",
              "    <tr>\n",
              "      <th class=\"blank level0\" >&nbsp;</th>\n",
              "      <th id=\"T_9512f_level0_col0\" class=\"col_heading level0 col0\" >Modelo</th>\n",
              "      <th id=\"T_9512f_level0_col1\" class=\"col_heading level0 col1\" >Acurácia</th>\n",
              "    </tr>\n",
              "  </thead>\n",
              "  <tbody>\n",
              "    <tr>\n",
              "      <th id=\"T_9512f_level0_row0\" class=\"row_heading level0 row0\" >0</th>\n",
              "      <td id=\"T_9512f_row0_col0\" class=\"data row0 col0\" >Árvore de Decisão</td>\n",
              "      <td id=\"T_9512f_row0_col1\" class=\"data row0 col1\" >0.962500</td>\n",
              "    </tr>\n",
              "    <tr>\n",
              "      <th id=\"T_9512f_level0_row1\" class=\"row_heading level0 row1\" >1</th>\n",
              "      <td id=\"T_9512f_row1_col0\" class=\"data row1 col0\" >Regressão Logística</td>\n",
              "      <td id=\"T_9512f_row1_col1\" class=\"data row1 col1\" >0.925000</td>\n",
              "    </tr>\n",
              "    <tr>\n",
              "      <th id=\"T_9512f_level0_row2\" class=\"row_heading level0 row2\" >2</th>\n",
              "      <td id=\"T_9512f_row2_col0\" class=\"data row2 col0\" >Random Forest</td>\n",
              "      <td id=\"T_9512f_row2_col1\" class=\"data row2 col1\" >0.987500</td>\n",
              "    </tr>\n",
              "  </tbody>\n",
              "</table>\n"
            ]
          },
          "metadata": {}
        }
      ]
    },
    {
      "cell_type": "markdown",
      "source": [
        "# 6. Importância das Features (Random Forest)"
      ],
      "metadata": {
        "id": "tSiZxNFdMX6T"
      }
    },
    {
      "cell_type": "code",
      "source": [
        "# Mostrar importância das features\n",
        "importancias = pd.Series(modelo_floresta.feature_importances_, index=X.columns)\n",
        "plt.figure(figsize=(10, 4))\n",
        "importancias.sort_values().plot(kind='barh', color='teal')\n",
        "plt.title('Features Mais Importantes')\n",
        "plt.show()"
      ],
      "metadata": {
        "colab": {
          "base_uri": "https://localhost:8080/",
          "height": 391
        },
        "id": "_yBgB66rQ58C",
        "outputId": "ef5bf534-411b-475f-c3fa-6ef0abfc3f56"
      },
      "execution_count": 19,
      "outputs": [
        {
          "output_type": "display_data",
          "data": {
            "text/plain": [
              "<Figure size 1000x400 with 1 Axes>"
            ],
            "image/png": "[encoded data removed]"
          },
          "metadata": {}
        }
      ]
    }
  ]
}